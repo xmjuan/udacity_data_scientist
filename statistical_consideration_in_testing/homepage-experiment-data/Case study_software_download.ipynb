{
 "cells": [
  {
   "cell_type": "markdown",
   "id": "cdf662a1",
   "metadata": {},
   "source": [
    "## Experiment size\n",
    "- baseline\n",
    "- minimum detectable effect\n",
    "- alpha: type I error\n",
    "- beta: type II error\n",
    "\n",
    ">> reference: https://zhuanlan.zhihu.com/p/40919260"
   ]
  },
  {
   "cell_type": "markdown",
   "id": "4efd2ac5",
   "metadata": {},
   "source": [
    "### Experiment size"
   ]
  },
  {
   "cell_type": "code",
   "execution_count": 9,
   "id": "76c5ea91",
   "metadata": {},
   "outputs": [],
   "source": [
    "import numpy as np\n",
    "import scipy.stats as stats\n",
    "def experiment_size(p_null, p_alt, alpha = .05, beta = .20):\n",
    "    \"\"\"\n",
    "    Compute the minimum number of samples needed to achieve a desired power\n",
    "    level for a given effect size.\n",
    "    \n",
    "    Input parameters:\n",
    "        p_null: base success rate under null hypothesis\n",
    "        p_alt : desired success rate to be detected\n",
    "        alpha : Type-I error rate\n",
    "        beta  : Type-II error rate\n",
    "    \n",
    "    Output value:\n",
    "        n : Number of samples required for each group to obtain desired power\n",
    "    \"\"\"\n",
    "    \n",
    "    # Get necessary z-scores and standard deviations (@ 1 obs per group)\n",
    "    z_null = stats.norm.ppf(1 - alpha)\n",
    "    z_alt  = stats.norm.ppf(beta)\n",
    "    sd_null = np.sqrt((p_null * (1-p_null) + p_null * (1-p_null)))\n",
    "    sd_alt  = np.sqrt(p_null * (1-p_null) + p_alt  * (1-p_alt) )\n",
    "    \n",
    "    # Compute and return minimum sample size\n",
    "    p_diff = p_alt - p_null\n",
    "    n = ((z_null * sd_null - z_alt * sd_alt)/p_diff)**2\n",
    "    return np.ceil(n)"
   ]
  },
  {
   "cell_type": "markdown",
   "id": "9d92731f",
   "metadata": {},
   "source": [
    "Let's say that we want to detect an increase of 50 downloads per day (up to 570 per day, or a .175 rate). How many days of data would we need to collect in order to get enough visitors to detect this new rate at an overall 5% Type I error rate and at 80% power?"
   ]
  },
  {
   "cell_type": "code",
   "execution_count": 7,
   "id": "3c07e6d8",
   "metadata": {},
   "outputs": [
    {
     "data": {
      "text/plain": [
       "5.834461538461539"
      ]
     },
     "execution_count": 7,
     "metadata": {},
     "output_type": "execute_result"
    }
   ],
   "source": [
    "experiment_size(0.16, 0.175, alpha = 0.025) * 2/3250"
   ]
  },
  {
   "cell_type": "markdown",
   "id": "77ac1ab4",
   "metadata": {},
   "source": [
    "What if we wanted to detect an increase of 10 license purchases per day (up to 75 per day, or a .023 rate). How many days of data would we need to collect in order to get enough visitors to detect this new rate at an overall 5% Type I error rate and at 80% power?"
   ]
  },
  {
   "cell_type": "code",
   "execution_count": 8,
   "id": "6e006b87",
   "metadata": {},
   "outputs": [
    {
     "data": {
      "text/plain": [
       "21.495384615384616"
      ]
     },
     "execution_count": 8,
     "metadata": {},
     "output_type": "execute_result"
    }
   ],
   "source": [
    "experiment_size(0.02, 0.023, alpha = 0.025) *2/3250"
   ]
  },
  {
   "cell_type": "markdown",
   "id": "cffac473",
   "metadata": {},
   "source": [
    "### Analyze data"
   ]
  },
  {
   "cell_type": "markdown",
   "id": "144be635",
   "metadata": {},
   "source": [
    "#### Invariant metric\n",
    ">> There should be no difference in assigned sample size between control and experiment group\n",
    ">> **H0: number of control = number of experiment**"
   ]
  },
  {
   "cell_type": "code",
   "execution_count": 18,
   "id": "69ec66e9",
   "metadata": {},
   "outputs": [],
   "source": [
    "import os\n",
    "os.chdir('C:\\\\Users\\\\juanx\\\\delicious\\\\DS\\\\udacity_data_scientist\\\\statistical_consideration_in_testing\\\\homepage-experiment-data')"
   ]
  },
  {
   "cell_type": "code",
   "execution_count": 19,
   "id": "c0965d3f",
   "metadata": {},
   "outputs": [
    {
     "data": {
      "text/plain": [
       "['homepage-experiment-data.csv']"
      ]
     },
     "execution_count": 19,
     "metadata": {},
     "output_type": "execute_result"
    }
   ],
   "source": [
    "os.listdir()"
   ]
  },
  {
   "cell_type": "code",
   "execution_count": 17,
   "id": "7db5bc7a",
   "metadata": {},
   "outputs": [],
   "source": [
    "import pandas as pd\n",
    "import matplotlib.pyplot as plt\n",
    "\n",
    "%matplotlib inline"
   ]
  },
  {
   "cell_type": "code",
   "execution_count": 20,
   "id": "6628479e",
   "metadata": {},
   "outputs": [],
   "source": [
    "df = pd.read_csv('homepage-experiment-data.csv')"
   ]
  },
  {
   "cell_type": "code",
   "execution_count": 21,
   "id": "257f00de",
   "metadata": {},
   "outputs": [
    {
     "data": {
      "text/html": [
       "<div>\n",
       "<style scoped>\n",
       "    .dataframe tbody tr th:only-of-type {\n",
       "        vertical-align: middle;\n",
       "    }\n",
       "\n",
       "    .dataframe tbody tr th {\n",
       "        vertical-align: top;\n",
       "    }\n",
       "\n",
       "    .dataframe thead th {\n",
       "        text-align: right;\n",
       "    }\n",
       "</style>\n",
       "<table border=\"1\" class=\"dataframe\">\n",
       "  <thead>\n",
       "    <tr style=\"text-align: right;\">\n",
       "      <th></th>\n",
       "      <th>Day</th>\n",
       "      <th>Control Cookies</th>\n",
       "      <th>Control Downloads</th>\n",
       "      <th>Control Licenses</th>\n",
       "      <th>Experiment Cookies</th>\n",
       "      <th>Experiment Downloads</th>\n",
       "      <th>Experiment Licenses</th>\n",
       "    </tr>\n",
       "  </thead>\n",
       "  <tbody>\n",
       "    <tr>\n",
       "      <th>0</th>\n",
       "      <td>1</td>\n",
       "      <td>1764</td>\n",
       "      <td>246</td>\n",
       "      <td>1</td>\n",
       "      <td>1850</td>\n",
       "      <td>339</td>\n",
       "      <td>3</td>\n",
       "    </tr>\n",
       "    <tr>\n",
       "      <th>1</th>\n",
       "      <td>2</td>\n",
       "      <td>1541</td>\n",
       "      <td>234</td>\n",
       "      <td>2</td>\n",
       "      <td>1590</td>\n",
       "      <td>281</td>\n",
       "      <td>2</td>\n",
       "    </tr>\n",
       "    <tr>\n",
       "      <th>2</th>\n",
       "      <td>3</td>\n",
       "      <td>1457</td>\n",
       "      <td>240</td>\n",
       "      <td>1</td>\n",
       "      <td>1515</td>\n",
       "      <td>274</td>\n",
       "      <td>1</td>\n",
       "    </tr>\n",
       "    <tr>\n",
       "      <th>3</th>\n",
       "      <td>4</td>\n",
       "      <td>1587</td>\n",
       "      <td>224</td>\n",
       "      <td>1</td>\n",
       "      <td>1541</td>\n",
       "      <td>284</td>\n",
       "      <td>2</td>\n",
       "    </tr>\n",
       "    <tr>\n",
       "      <th>4</th>\n",
       "      <td>5</td>\n",
       "      <td>1606</td>\n",
       "      <td>253</td>\n",
       "      <td>2</td>\n",
       "      <td>1643</td>\n",
       "      <td>292</td>\n",
       "      <td>3</td>\n",
       "    </tr>\n",
       "  </tbody>\n",
       "</table>\n",
       "</div>"
      ],
      "text/plain": [
       "   Day  Control Cookies  Control Downloads  Control Licenses  \\\n",
       "0    1             1764                246                 1   \n",
       "1    2             1541                234                 2   \n",
       "2    3             1457                240                 1   \n",
       "3    4             1587                224                 1   \n",
       "4    5             1606                253                 2   \n",
       "\n",
       "   Experiment Cookies  Experiment Downloads  Experiment Licenses  \n",
       "0                1850                   339                    3  \n",
       "1                1590                   281                    2  \n",
       "2                1515                   274                    1  \n",
       "3                1541                   284                    2  \n",
       "4                1643                   292                    3  "
      ]
     },
     "execution_count": 21,
     "metadata": {},
     "output_type": "execute_result"
    }
   ],
   "source": [
    "df.head()"
   ]
  },
  {
   "cell_type": "code",
   "execution_count": 24,
   "id": "86149652",
   "metadata": {},
   "outputs": [],
   "source": [
    "n_ctr = df['Control Cookies'].sum()\n",
    "n_exp = df['Experiment Cookies'].sum()\n",
    "n_total = n_ctr + n_exp"
   ]
  },
  {
   "cell_type": "code",
   "execution_count": 23,
   "id": "83c0d11f",
   "metadata": {},
   "outputs": [
    {
     "name": "stdout",
     "output_type": "stream",
     "text": [
      "experiment size is 47346, control size is 46851\n"
     ]
    }
   ],
   "source": [
    "print('experiment size is {}, control size is {}'.format(n_exp, n_ctr))"
   ]
  },
  {
   "cell_type": "code",
   "execution_count": 27,
   "id": "8bd0111f",
   "metadata": {},
   "outputs": [
    {
     "name": "stdout",
     "output_type": "stream",
     "text": [
      "p value is 0.106915\n"
     ]
    }
   ],
   "source": [
    "# simulation split of half half 200000 times\n",
    "n_simu = np.random.binomial(n_total, 0.5, 200000)\n",
    "\n",
    "# p value of 2 sided experiment\n",
    "print('p value is {}'.format(np.logical_or(n_simu <= n_ctr, n_simu >= (n_total - n_ctr)).mean()))"
   ]
  },
  {
   "cell_type": "code",
   "execution_count": 28,
   "id": "6e486f56",
   "metadata": {},
   "outputs": [
    {
     "name": "stdout",
     "output_type": "stream",
     "text": [
      "Cannot reject H0, invariant metric passed\n"
     ]
    }
   ],
   "source": [
    "print('Cannot reject H0, invariant metric passed')"
   ]
  },
  {
   "cell_type": "markdown",
   "id": "d2ff1e18",
   "metadata": {},
   "source": [
    "#### Evaluation metrics"
   ]
  },
  {
   "cell_type": "markdown",
   "id": "c0061ce4",
   "metadata": {},
   "source": [
    "##### Download rate\n",
    ">> **H0: old page >= new page**"
   ]
  },
  {
   "cell_type": "code",
   "execution_count": 48,
   "id": "c9547292",
   "metadata": {},
   "outputs": [],
   "source": [
    "def evaluation_homepage(metric_control, metric_exp, baseline_control, baseline_exp, simulation_size):\n",
    "    \"\"\"\n",
    "    Compute p value for evaluation metrics\n",
    "    \n",
    "    Input parameters:\n",
    "        metric_control: denominator defined_metric of control group - str\n",
    "        metric_exp: denominator defined_metric of experiment group - str\n",
    "        baseline_control: numerator defined_metric of control group - str\n",
    "        baseline_exp: numerator defined_metric of experiment group - str\n",
    "        simulation_size: simulation size - int\n",
    "    \n",
    "    Output value:\n",
    "        calculated p value: str\n",
    "        plot: visualized distribution\n",
    "    \"\"\"\n",
    "    \n",
    "    n_ctr = df[baseline_control].sum()\n",
    "    n_exp = df[baseline_exp].sum()\n",
    "    n_total = n_ctr + n_exp\n",
    "    exp_click = df[metric_exp].sum()/n_exp\n",
    "    ctr_click = df[metric_control].sum()/n_ctr\n",
    "    estimator = (df[metric_control].sum() + df[metric_exp].sum())/n_total\n",
    "    \n",
    "    # simulation\n",
    "    exp_simu = np.random.binomial(n_exp, estimator, simulation_size)\n",
    "    ctr_simu = np.random.binomial(n_ctr, estimator, simulation_size)\n",
    "    \n",
    "    simu_diffs = exp_simu/n_exp - ctr_simu/n_ctr\n",
    "    \n",
    "    # plot\n",
    "    actual_diff = exp_click - ctr_click\n",
    "    plt.hist(simu_diffs)\n",
    "    plt.axvline(actual_diff, color='red', label='observed_diff')\n",
    "    plt.title('Simulated distribution of p_diffs')\n",
    "    plt.xlabel('simu_diffs')\n",
    "    plt.ylabel('count')\n",
    "    plt.legend()\n",
    "    \n",
    "    # p value\n",
    "    p_value = (simu_diffs > actual_diff).mean()\n",
    "    print('p_value is {}'.format(p_value))"
   ]
  },
  {
   "cell_type": "code",
   "execution_count": 49,
   "id": "68237f00",
   "metadata": {},
   "outputs": [
    {
     "name": "stdout",
     "output_type": "stream",
     "text": [
      "p_value is 0.0\n"
     ]
    },
    {
     "data": {
      "image/png": "[encoded data removed]",
      "text/plain": [
       "<Figure size 432x288 with 1 Axes>"
      ]
     },
     "metadata": {
      "needs_background": "light"
     },
     "output_type": "display_data"
    }
   ],
   "source": [
    "evaluation_homepage('Control Downloads', 'Experiment Downloads', 'Control Cookies', 'Experiment Cookies', 200000)"
   ]
  },
  {
   "cell_type": "code",
   "execution_count": 50,
   "id": "9e24cf97",
   "metadata": {},
   "outputs": [
    {
     "name": "stdout",
     "output_type": "stream",
     "text": [
      "p_value is 0.35259\n"
     ]
    },
    {
     "data": {
      "image/png": "[encoded data removed]",
      "text/plain": [
       "<Figure size 432x288 with 1 Axes>"
      ]
     },
     "metadata": {
      "needs_background": "light"
     },
     "output_type": "display_data"
    }
   ],
   "source": [
    "evaluation_homepage('Control Licenses', 'Experiment Licenses','Control Cookies', 'Experiment Cookies', 200000)"
   ]
  }
 ],
 "metadata": {
  "kernelspec": {
   "display_name": "Python 3",
   "language": "python",
   "name": "python3"
  },
  "language_info": {
   "codemirror_mode": {
    "name": "ipython",
    "version": 3
   },
   "file_extension": ".py",
   "mimetype": "text/x-python",
   "name": "python",
   "nbconvert_exporter": "python",
   "pygments_lexer": "ipython3",
   "version": "3.8.8"
  }
 },
 "nbformat": 4,
 "nbformat_minor": 5
}
